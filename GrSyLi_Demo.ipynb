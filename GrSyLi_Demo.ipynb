{
 "cells": [
  {
   "cell_type": "markdown",
   "id": "1fa4fea0-a890-4fc5-a3c3-8ea35047441a",
   "metadata": {},
   "source": [
    "<u>The <span style=\"color:green\">**GrSyLi**</span> Package for GAP: <span style=\"color:green\">**Gr**</span>aphs with <span style=\"color:green\">**Sy**</span>mmetry <span style=\"color:green\">**Li**</span>brary</u>\n",
    "-----------------------------------------------------------------"
   ]
  },
  {
   "cell_type": "markdown",
   "id": "972fa4c1-cae9-4e38-a0bf-d04d0e2b4a2a",
   "metadata": {
    "jp-MarkdownHeadingCollapsed": true
   },
   "source": [
    "The <span style=\"color:green\">**GrSyLi**</span> package contains various collections of connected graphs with interesting symmetry properties. This includes:\n",
    "\n",
    "  - all cubic vertex-transitive graphs on up to 1280 vertices\n",
    "  - all arc-transitive 2-valent digraphs on up to 1000 vertices\n",
    "  - all ($G$-)half-arc-transitive 4-valent graphs on up to 1000 vertices\n",
    "  - all arc-transitive 4-valent graphs on up to 640 vertices\n",
    "  - many edge-transitive 4-valent graphs on up to 512 vertices\n",
    "\n",
    "\n",
    "--------------------------\n",
    "\n",
    "The <span style=\"color:green\">**GrSyLi**</span> package is based on the Digraphs package for GAP. The Digraph package provides lots of functionality for the inspection, construction and modification of (di)graphs, as well as various I/O capabilities."
   ]
  },
  {
   "cell_type": "code",
   "execution_count": 1,
   "id": "04a85095-1672-4c2b-9a2b-4220383720a5",
   "metadata": {},
   "outputs": [],
   "source": [
    "LoadPackage(\"graphsym\");;"
   ]
  },
  {
   "cell_type": "code",
   "execution_count": 2,
   "id": "f85ef77d-911e-4e98-bd0b-4a87d3e95841",
   "metadata": {},
   "outputs": [
    {
     "data": {
      "text/plain": [
       "9"
      ]
     },
     "execution_count": 2,
     "metadata": {
      "text/plain": ""
     },
     "output_type": "execute_result"
    }
   ],
   "source": [
    "NrCubicVTGraphs(50);"
   ]
  },
  {
   "cell_type": "code",
   "execution_count": 3,
   "id": "ee2cf870-5a30-42ad-bc05-8658d9f5c991",
   "metadata": {},
   "outputs": [
    {
     "data": {
      "text/plain": [
       "<immutable symmetric digraph with 50 vertices, 150 edges>"
      ]
     },
     "execution_count": 3,
     "metadata": {
      "text/plain": ""
     },
     "output_type": "execute_result"
    }
   ],
   "source": [
    "gamma:=CubicVTGraph(50,8);"
   ]
  },
  {
   "cell_type": "code",
   "execution_count": 4,
   "id": "c9fe1c5b-3a3d-4a2f-bcd6-382f192dda3f",
   "metadata": {},
   "outputs": [
    {
     "data": {
      "text/plain": [
       "300"
      ]
     },
     "execution_count": 4,
     "metadata": {
      "text/plain": ""
     },
     "output_type": "execute_result"
    }
   ],
   "source": [
    "Size(AutomorphismGroup(gamma));"
   ]
  },
  {
   "cell_type": "code",
   "execution_count": 5,
   "id": "85b35822-458c-4d9c-b150-f73fc50f138a",
   "metadata": {},
   "outputs": [
    {
     "data": {
      "text/plain": [
       "6"
      ]
     },
     "execution_count": 5,
     "metadata": {
      "text/plain": ""
     },
     "output_type": "execute_result"
    }
   ],
   "source": [
    "Size(Stabilizer(AutomorphismGroup(gamma),1));"
   ]
  },
  {
   "cell_type": "code",
   "execution_count": 6,
   "id": "cf995f46-5371-4348-88fd-dd969f9ce6a4",
   "metadata": {},
   "outputs": [
    {
     "data": {
      "text/plain": [
       "x_1^50-75*x_1^48+2625*x_1^46-57025*x_1^44+862725*x_1^42-9668295*x_1^40+8334970\\0*x_1^38-566676000*x_1^36+3090477525*x_1^34-13679661475*x_1^32+49537102935*x_1\\^30-147486591075*x_1^28+361935120000*x_1^26-732318068400*x_1^24+1219518005475*\\x_1^22-1665002761415*x_1^20+1852410909075*x_1^18-1665126487125*x_1^16+11956281\\24400*x_1^14-675618038100*x_1^12+294591242055*x_1^10-96500806325*x_1^8+2284644\\8625*x_1^6-3675257025*x_1^4+358338475*x_1^2-15944049"
      ]
     },
     "execution_count": 6,
     "metadata": {
      "text/plain": ""
     },
     "output_type": "execute_result"
    }
   ],
   "source": [
    "chi:=CharacteristicPolynomial(gamma);"
   ]
  },
  {
   "cell_type": "code",
   "execution_count": 7,
   "id": "bc280818-6c91-4ac6-b5b1-d10dd3bbb281",
   "metadata": {},
   "outputs": [
    {
     "data": {
      "text/plain": [
       "[ [ x_1-3, 1 ], [ x_1+3, 1 ], [ x_1^2-x_1-1, 6 ], [ x_1^2+x_1-1, 6 ],   [ x_1^4-8*x_1^2+11, 6 ] ]"
      ]
     },
     "execution_count": 7,
     "metadata": {
      "text/plain": ""
     },
     "output_type": "execute_result"
    }
   ],
   "source": [
    "Collected(Factors(chi));"
   ]
  },
  {
   "cell_type": "code",
   "execution_count": 8,
   "id": "4a4e225f-b787-421b-8a59-fb7c50090f76",
   "metadata": {},
   "outputs": [
    {
     "data": {
      "text/plain": [
       "3"
      ]
     },
     "execution_count": 8,
     "metadata": {
      "text/plain": ""
     },
     "output_type": "execute_result"
    }
   ],
   "source": [
    "DigraphDegeneracy(gamma);"
   ]
  },
  {
   "cell_type": "code",
   "execution_count": 9,
   "id": "885b1653-da10-4aa1-96cd-d875b270ddca",
   "metadata": {},
   "outputs": [
    {
     "data": {
      "text/plain": [
       "false"
      ]
     },
     "execution_count": 9,
     "metadata": {
      "text/plain": ""
     },
     "output_type": "execute_result"
    }
   ],
   "source": [
    "IsPlanarDigraph(gamma);"
   ]
  },
  {
   "cell_type": "code",
   "execution_count": 10,
   "id": "e1757f69-ab2b-44df-b6c2-6415d066d2f9",
   "metadata": {},
   "outputs": [
    {
     "data": {
      "text/plain": [
       "true"
      ]
     },
     "execution_count": 10,
     "metadata": {
      "text/plain": ""
     },
     "output_type": "execute_result"
    }
   ],
   "source": [
    "IsHamiltonianDigraph(gamma);"
   ]
  },
  {
   "cell_type": "code",
   "execution_count": 11,
   "id": "9fd3c8e4-6171-4910-a83c-46358cf79149",
   "metadata": {},
   "outputs": [
    {
     "data": {
      "text/plain": [
       "false"
      ]
     },
     "execution_count": 11,
     "metadata": {
      "text/plain": ""
     },
     "output_type": "execute_result"
    }
   ],
   "source": [
    "IsDigraphCore(gamma);"
   ]
  },
  {
   "cell_type": "code",
   "execution_count": 12,
   "id": "f0d6cc3d-ea43-45b5-be46-2318ca17a7fd",
   "metadata": {},
   "outputs": [
    {
     "data": {
      "text/plain": [
       "2"
      ]
     },
     "execution_count": 12,
     "metadata": {
      "text/plain": ""
     },
     "output_type": "execute_result"
    }
   ],
   "source": [
    "CliqueNumber(gamma);"
   ]
  },
  {
   "cell_type": "code",
   "execution_count": 13,
   "id": "29fbcaa5-ff1b-4b26-b945-c48e3e60df3c",
   "metadata": {},
   "outputs": [],
   "source": [
    "Splash(DotSymmetricDigraph(gamma));"
   ]
  },
  {
   "cell_type": "markdown",
   "id": "1d5c84f8-a069-4e2f-a274-d3be53aeb8ba",
   "metadata": {},
   "source": [
    "If the user wants to use graphs in <span style=\"color:purple\">**Grape**</span> format, you can simply use the command`Graph`."
   ]
  },
  {
   "cell_type": "code",
   "execution_count": 14,
   "id": "8044619e-45de-42b1-9394-ae13a35c641c",
   "metadata": {},
   "outputs": [
    {
     "data": {
      "text/plain": [
       "3"
      ]
     },
     "execution_count": 14,
     "metadata": {
      "text/plain": ""
     },
     "output_type": "execute_result"
    }
   ],
   "source": [
    "NrCubicVTGraphs(10);"
   ]
  },
  {
   "cell_type": "code",
   "execution_count": 15,
   "id": "e29e255d-b5fb-4b42-b860-78b0534d8951",
   "metadata": {},
   "outputs": [],
   "source": [
    "gammas:=List(AllCubicVTGraphs(10),Graph);;"
   ]
  },
  {
   "cell_type": "code",
   "execution_count": 16,
   "id": "94bd88b6-25bb-4bef-bf12-4e8db3c40924",
   "metadata": {},
   "outputs": [
    {
     "data": {
      "text/plain": [
       "[ 3, 2, 3 ]"
      ]
     },
     "execution_count": 16,
     "metadata": {
      "text/plain": ""
     },
     "output_type": "execute_result"
    }
   ],
   "source": [
    "List(gammas,ChromaticNumber);"
   ]
  },
  {
   "cell_type": "code",
   "execution_count": 17,
   "id": "799b7cd3-732a-4916-a439-31ac242858cc",
   "metadata": {},
   "outputs": [
    {
     "data": {
      "text/plain": [
       "[ false, false, true ]"
      ]
     },
     "execution_count": 17,
     "metadata": {
      "text/plain": ""
     },
     "output_type": "execute_result"
    }
   ],
   "source": [
    "List(gammas,IsDistanceRegular);"
   ]
  },
  {
   "cell_type": "code",
   "execution_count": 18,
   "id": "ef225889-3906-4999-b8b9-96590b762539",
   "metadata": {},
   "outputs": [],
   "source": [
    "# Build the petersen graph as the Odd graph O_5\n",
    "petersen:=Graph(SymmetricGroup(5),[[1,2]],OnSets,\n",
    "                                    function(x,y) \n",
    "                                      return Intersection(x,y)=[]; \n",
    "                                    end);;"
   ]
  },
  {
   "cell_type": "code",
   "execution_count": 19,
   "id": "0333c785-a235-489f-b58e-0e18cd05f703",
   "metadata": {},
   "outputs": [
    {
     "data": {
      "text/plain": [
       "[ false, false, true ]"
      ]
     },
     "execution_count": 19,
     "metadata": {
      "text/plain": ""
     },
     "output_type": "execute_result"
    }
   ],
   "source": [
    "List(gammas,gamma->IsIsomorphicGraph(gamma,petersen));"
   ]
  },
  {
   "cell_type": "markdown",
   "id": "410e35c1-7a2b-4f8e-b78b-93d23dfe878e",
   "metadata": {},
   "source": [
    "<u> Stored parameters in the <span style=\"color:green\">**GrSyLi**</span> package</u>\n",
    "------------------------------------------------"
   ]
  },
  {
   "cell_type": "markdown",
   "id": "88b92e34-4ae6-4c34-90f0-c94e7da49557",
   "metadata": {
    "jp-MarkdownHeadingCollapsed": true
   },
   "source": [
    "The <span style=\"color:green\">**GrSyLi**</span> package has many precomputed attributes stored for each cubic vertex-transitive graph it contains.\n",
    "This includes:\n",
    " - Girth\n",
    " - Diameter\n",
    " - Cayley-ness\n",
    " - Arc-transitivity\n",
    " - Being isomorphic to a Split Praeger-Xu graph\n",
    "\n",
    "To access this information, you can load the graph with the optional argument `data` set to `true`, or use the `SetCubicVTGraphProps` function (slow)."
   ]
  },
  {
   "cell_type": "code",
   "execution_count": 20,
   "id": "56fa6498-2f19-4437-ba57-179431c3319d",
   "metadata": {},
   "outputs": [
    {
     "name": "stdout",
     "output_type": "stream",
     "text": [
      "  CVT: There are 259 cubic vertex-transitive graphs on 540 vertices.\n",
      "\n",
      "  Of these 259 graphs, there are;\n",
      "     - 236 bipartite graphs, \n",
      "     - 248 Cayley graphs, \n",
      "     - 0 arc-transitive graphs, \n",
      "     - 1 split Praeger-Xu graphs, \n",
      "     - 249 graphs with solvable automorphism group. \n",
      "\n"
     ]
    }
   ],
   "source": [
    "SmallCubicVTGraphsInfo(540);"
   ]
  },
  {
   "cell_type": "code",
   "execution_count": 21,
   "id": "7d9cd06a-3f1c-4fa1-aae2-a4dc5d2df0d5",
   "metadata": {},
   "outputs": [
    {
     "data": {
      "text/plain": [
       "<immutable bipartite vertex-transitive symmetric digraph with bicomponent size\\s 270 and 270>"
      ]
     },
     "execution_count": 21,
     "metadata": {
      "text/plain": ""
     },
     "output_type": "execute_result"
    }
   ],
   "source": [
    "gamma:=CubicVTGraph(540,10,true);"
   ]
  },
  {
   "cell_type": "code",
   "execution_count": 22,
   "id": "78fe887a-4cdd-441f-b2b0-05199fae6c8d",
   "metadata": {},
   "outputs": [
    {
     "data": {
      "text/plain": [
       "true"
      ]
     },
     "execution_count": 22,
     "metadata": {
      "text/plain": ""
     },
     "output_type": "execute_result"
    }
   ],
   "source": [
    "IsBipartiteDigraph(gamma);"
   ]
  },
  {
   "cell_type": "code",
   "execution_count": 23,
   "id": "90b7dc05-02b1-4d6f-afe8-ad7514fb4767",
   "metadata": {},
   "outputs": [
    {
     "data": {
      "text/plain": [
       "true"
      ]
     },
     "execution_count": 23,
     "metadata": {
      "text/plain": ""
     },
     "output_type": "execute_result"
    }
   ],
   "source": [
    "IsCayleyGraph(gamma);"
   ]
  },
  {
   "cell_type": "code",
   "execution_count": 24,
   "id": "363f8fc2-2f6e-437d-bda6-d61ecd02de6c",
   "metadata": {},
   "outputs": [
    {
     "data": {
      "text/plain": [
       "false"
      ]
     },
     "execution_count": 24,
     "metadata": {
      "text/plain": ""
     },
     "output_type": "execute_result"
    }
   ],
   "source": [
    "IsSplitPraegerXuGraph(gamma);"
   ]
  },
  {
   "cell_type": "markdown",
   "id": "f740f4ac-1d1a-4d8a-9336-fb3b8ea0b67e",
   "metadata": {},
   "source": [
    "All functionality is documented in the manual, which can be found in the github repository.\n",
    "\n",
    "Once the user builds the documentation locally (see manual), they can use the GAP help viewer to find documentation on specific functions or sections."
   ]
  },
  {
   "cell_type": "code",
   "execution_count": 25,
   "id": "e3faf057-5edf-4053-a4fa-b0183997dbb8",
   "metadata": {},
   "outputs": [
    {
     "data": {
      "text/html": [
       "graphsym: <a target=\"_blank\" href=\"https://www.gap-system.org/Manuals/pkg/graphsym/doc/chap2.html#X7AC800B7822F31FF\">IsSplitPraegerXuGraph</a>"
      ]
     },
     "execution_count": 25,
     "metadata": {},
     "output_type": "execute_result"
    }
   ],
   "source": [
    "?IsSplitPraegerXuGraph\n"
   ]
  },
  {
   "cell_type": "markdown",
   "id": "71528933-6a1c-4fce-b58e-af1a975b34c8",
   "metadata": {},
   "source": [
    "<u>Example: The degree-girth problem</u>\n",
    "----------------------------------------"
   ]
  },
  {
   "cell_type": "markdown",
   "id": "15d9d22b-f99c-4e7d-81c5-8969affff4e1",
   "metadata": {},
   "source": [
    "Now let's investigate the degree-girth problem for cubic graphs.\n",
    "\n",
    " - The **degree-girth** problem: what is the *minimum* order of a $k$-regular graph with girth $g$?\n",
    "\n",
    "The Moore bound gives an upper bound for the order of a graph in the degree-diameter problem, and there is also a lower bound for the degree-girth problem which we call the **girth Moore bound** $M(k,g)$.  "
   ]
  },
  {
   "cell_type": "code",
   "execution_count": 26,
   "id": "59cdda9f-4f12-48ea-86bf-7adc20115300",
   "metadata": {},
   "outputs": [],
   "source": [
    "# Moore bound by girth for cubic graphs\n",
    "GirthMooreBound:=function(gamma)\n",
    "  local girth;\n",
    "\n",
    "  girth:=DigraphUndirectedGirth(gamma);\n",
    "  if IsEvenInt(girth) then\n",
    "    return 2*(2^(girth/2)-1);\n",
    "  else\n",
    "    return 1+3*(2^((girth-1)/2) - 1);\n",
    "  fi;\n",
    "end;;"
   ]
  },
  {
   "cell_type": "code",
   "execution_count": 30,
   "id": "c528f4db-6c30-43a1-81ae-bc67e8c86401",
   "metadata": {
    "scrolled": true
   },
   "outputs": [
    {
     "data": {
      "text/plain": [
       "5"
      ]
     },
     "execution_count": 30,
     "metadata": {
      "text/plain": ""
     },
     "output_type": "execute_result"
    }
   ],
   "source": [
    "exact_graphs:=[];; max:=500;;\n",
    "\n",
    "for n in [4,6..max] do\n",
    "  iter:=CubicVTGraphIterator(n,true);\n",
    "\n",
    "  for gamma in iter do\n",
    "\n",
    "    girth:=DigraphUndirectedGirth(gamma);\n",
    "    gmoore:=GirthMooreBound(gamma);\n",
    "\n",
    "    if DigraphNrVertices(gamma)=gmoore then\n",
    "      Add(exact_graphs,gamma);\n",
    "    fi;\n",
    "  od;\n",
    "od;\n",
    "\n",
    "Length(exact_graphs);"
   ]
  },
  {
   "cell_type": "markdown",
   "id": "df2d3fc0-006d-441c-b5f9-4ef970ed1aa5",
   "metadata": {},
   "source": [
    "The 5 graphs meeting the girth bound are well known examples of distance-regular graphs:\n",
    "\n",
    "  - the **tetrahedron graph** $K_4$\n",
    "  - the **complete multipartite graph** $K_{3,3}$\n",
    "  - the **Petersen graph**\n",
    "  - the **Heawood graph**\n",
    "  - the **Tutte 8-cage**\n",
    "\n",
    "The <span style=\"color:blue\">**AGT**</span> package (<span style=\"color:blue\">A</span>lgebraic <span style=\"color:blue\">G</span>raph <span style=\"color:blue\">T</span>heory) contains specific constructors for all but the Tutte 8-cage. It can be constructed as the point-line incidence graph of the smallest generalised quadrangle $W(2)$."
   ]
  },
  {
   "cell_type": "code",
   "execution_count": 32,
   "id": "bcfaf6de-1a10-4a2f-83c0-91e81853e990",
   "metadata": {},
   "outputs": [
    {
     "data": {
      "text/plain": [
       "true"
      ]
     },
     "execution_count": 32,
     "metadata": {
      "text/plain": ""
     },
     "output_type": "execute_result"
    }
   ],
   "source": [
    "LoadPackage(\"agt\");;\n",
    "\n",
    "IsIsomorphicGraph(TetrahedronGraph(),Graph(exact_graphs[1]));"
   ]
  },
  {
   "cell_type": "code",
   "execution_count": 33,
   "id": "90668a55-451e-41a4-a304-b8981c842bb3",
   "metadata": {},
   "outputs": [
    {
     "data": {
      "text/plain": [
       "true"
      ]
     },
     "execution_count": 33,
     "metadata": {
      "text/plain": ""
     },
     "output_type": "execute_result"
    }
   ],
   "source": [
    "IsIsomorphicGraph(CompleteMultipartiteGraph([3,3]),Graph(exact_graphs[2]));"
   ]
  },
  {
   "cell_type": "code",
   "execution_count": 34,
   "id": "6d0d80b5-dd5a-4f63-acfa-613f5c5005cf",
   "metadata": {},
   "outputs": [
    {
     "data": {
      "text/plain": [
       "true"
      ]
     },
     "execution_count": 34,
     "metadata": {
      "text/plain": ""
     },
     "output_type": "execute_result"
    }
   ],
   "source": [
    "IsIsomorphicGraph(petersen,Graph(exact_graphs[3]));"
   ]
  },
  {
   "cell_type": "code",
   "execution_count": 35,
   "id": "24086a24-50b2-42d7-8295-375f60ced307",
   "metadata": {},
   "outputs": [
    {
     "data": {
      "text/plain": [
       "true"
      ]
     },
     "execution_count": 35,
     "metadata": {
      "text/plain": ""
     },
     "output_type": "execute_result"
    }
   ],
   "source": [
    "IsIsomorphicGraph(HeawoodGraph(),Graph(exact_graphs[4]));"
   ]
  },
  {
   "cell_type": "code",
   "execution_count": 36,
   "id": "5d3d24b8-19c4-4697-a86c-ce5bc0fcb8ee",
   "metadata": {},
   "outputs": [
    {
     "data": {
      "text/plain": [
       "true"
      ]
     },
     "execution_count": 36,
     "metadata": {
      "text/plain": ""
     },
     "output_type": "execute_result"
    }
   ],
   "source": [
    "IsIsomorphicGraph(AGT_IncidenceGraph(GeneralizedQuadrangleW(2)),Graph(exact_graphs[5]));"
   ]
  },
  {
   "cell_type": "markdown",
   "id": "14d5f7a9-b4f6-4768-8cef-15026c951004",
   "metadata": {},
   "source": [
    "A related parameter is the **excess** of a given $k$-regular graph $\\Gamma$ with girth $g$, defined as \n",
    "\n",
    "<center>$e(\\Gamma)=|V(\\Gamma)|-M(k,g)$.</center>\n",
    "\n",
    "In particular, we are interested in how large or small the excess of a graph can be, for given $k$ and $g$."
   ]
  },
  {
   "cell_type": "code",
   "execution_count": 39,
   "id": "863e24c2-3bb7-411e-993d-084e34fc3906",
   "metadata": {},
   "outputs": [],
   "source": [
    "excess_min:=List([1..max],x->infinity);;\n",
    "excess_graphs:=List([1..max],x->[]);;\n",
    "\n",
    "for n in [4,6..max] do\n",
    "  iter:=CubicVTGraphIterator(n,true);\n",
    "  \n",
    "  for gamma in iter do\n",
    "\n",
    "    girth:=DigraphUndirectedGirth(gamma);\n",
    "    gbound:=GirthMooreBound(gamma);\n",
    "    \n",
    "    e:=DigraphNrVertices(gamma)-gbound;\n",
    "\n",
    "    excess_min[girth]:=Minimum(excess_min[girth],e);\n",
    "\n",
    "    if e=excess_min[girth] then\n",
    "      Add(excess_graphs[girth],gamma);\n",
    "    fi;\n",
    "  od;\n",
    "od;"
   ]
  },
  {
   "cell_type": "code",
   "execution_count": 41,
   "id": "a12a4925-f69e-4715-b45d-892ab4121b87",
   "metadata": {},
   "outputs": [
    {
     "data": {
      "text/plain": [
       "[ 3, 4, 5, 6, 7, 8, 9, 10, 11, 12, 13, 14 ]"
      ]
     },
     "execution_count": 40,
     "metadata": {
      "text/plain": ""
     },
     "output_type": "execute_result"
    },
    {
     "data": {
      "text/plain": [
       "[ 0, 0, 0, 0, 4, 0, 14, 18, 98, 36, 82, 152 ]"
      ]
     },
     "execution_count": 41,
     "metadata": {
      "text/plain": ""
     },
     "output_type": "execute_result"
    }
   ],
   "source": [
    "PositionsProperty(excess_min,x->x<>infinity);\n",
    "Filtered(excess_min,x->x<>infinity);"
   ]
  },
  {
   "cell_type": "code",
   "execution_count": 42,
   "id": "75e62db9-2953-4a8b-98f8-2eeb7c0c389b",
   "metadata": {},
   "outputs": [
    {
     "data": {
      "text/plain": [
       "1"
      ]
     },
     "execution_count": 42,
     "metadata": {
      "text/plain": ""
     },
     "output_type": "execute_result"
    }
   ],
   "source": [
    "Length(excess_graphs[13]);"
   ]
  },
  {
   "cell_type": "code",
   "execution_count": 45,
   "id": "639e9bd4-2388-47d3-96c0-df1e66df29a7",
   "metadata": {},
   "outputs": [
    {
     "data": {
      "text/plain": [
       "272"
      ]
     },
     "execution_count": 44,
     "metadata": {
      "text/plain": ""
     },
     "output_type": "execute_result"
    },
    {
     "data": {
      "text/plain": [
       "true"
      ]
     },
     "execution_count": 45,
     "metadata": {
      "text/plain": ""
     },
     "output_type": "execute_result"
    }
   ],
   "source": [
    "gamma:=excess_graphs[13][1];;\n",
    "DigraphNrVertices(gamma); IsCayleyGraph(gamma);"
   ]
  },
  {
   "cell_type": "markdown",
   "id": "e2837569-f42e-4ecd-ac83-498f63f7c97d",
   "metadata": {},
   "source": [
    "The unique cubic vertex-transitive graph of order 272 and girth 13 is best known, showing that $202\\leq n(3,13)\\leq 272$.\n",
    "\n",
    "Discovered by Hoare, shown to be smallest possible Cayley graph by Royle.\n",
    "\n"
   ]
  },
  {
   "cell_type": "markdown",
   "id": "7d580857-4989-4978-80fa-9252dfd8247e",
   "metadata": {},
   "source": [
    "<u>Example: Cayley Neumaier graphs using the small groups library</u>\n",
    "-------------------------------------------------------------"
   ]
  },
  {
   "cell_type": "markdown",
   "id": "84646ba7-15a5-4105-8020-d22e012c8468",
   "metadata": {
    "jp-MarkdownHeadingCollapsed": true
   },
   "source": [
    "In this example, we find the smallest counterexample to Neumaier's question using the small groups library. The approach goes as follows: \n",
    "\n",
    "- iterate through small groups of size the desired order\n",
    "- search for possible connection sets of a Cayley graph, which have a specific structure that gaurantees the existence of a regular clique\n",
    "- check if such a connection set gives an erg\n",
    "- build the graphs, check if they are srgs and reduce by isomorphism class"
   ]
  },
  {
   "cell_type": "markdown",
   "id": "a9c6b2ac-f716-4c07-b07c-16c41acd0194",
   "metadata": {},
   "source": [
    "It can be shown that counterexample on at most 16 vertices must:\n",
    "\n",
    "- have 16 vertices\n",
    "- be 9-regular\n",
    "- have each edge being in exactly 4 triangles\n",
    "- contain a 2-regular 4-clique"
   ]
  },
  {
   "cell_type": "code",
   "execution_count": 53,
   "id": "25c2be29-0e91-4459-9dcd-e5aaffa00f98",
   "metadata": {},
   "outputs": [],
   "source": [
    "IsInverseClosed:=function(L)\n",
    "  return ForAll(L,x->x^-1 in L);\n",
    "end;;\n",
    "\n",
    "v:=16;; k:=9;; lambda:=4;; m:=2;; s:=4;; idx:=v/s;;\n",
    "connection_sets:=[];;"
   ]
  },
  {
   "cell_type": "code",
   "execution_count": 54,
   "id": "50e7f30e-7b9c-4b44-8166-b349179fd253",
   "metadata": {},
   "outputs": [],
   "source": [
    "for G in AllSmallGroups(v) do\n",
    "\n",
    "  # Finding subgroups of size s up to conjugacy\n",
    "  reps:=List(ConjugacyClassesSubgroups(G),Representative);;\n",
    "  reps:=Filtered(reps,H->Size(H)=s);;\n",
    "\n",
    "  # Reducing by automorphism\n",
    "  aut:=AutomorphismGroup(G);\n",
    "  reps:=List(Orbits(aut,List(reps,Elements),OnSets),First);\n",
    "\n",
    "  for H in reps do\n",
    "    \n",
    "    # Build all possible sets T                             | General                                            : (16,9,4) case\n",
    "\n",
    "    cos:=CosetDecomposition(G,Group(H)){[2..idx]};;         # cosets of H, not including H                       : 3 cosets \n",
    "    pairs:=List(cos,x->Combinations(x,m));;                 # m-subsets of coset representatives from each coset : 6 each\n",
    "    cart:=Cartesian(pairs);;                                # all possible combinations of m-subsets             : 6^3=216 elements\n",
    "    cart:=Filtered(cart,x->IsInverseClosed(Union(x)));;     # keep only inverse-closed subsets\n",
    "    Ts:=List(cart,Union);;\n",
    "\n",
    "    for T in Ts do\n",
    "      if ForAll(H{[2..s]},h->Length(Intersection(T,T*h))=lambda-s+2) and\n",
    "         ForAll(T,g->Length(Intersection(T,T*g))=lambda-2*m+2) then\n",
    "           Add(connection_sets,[G,Union(H{[2..s]},T)]);\n",
    "      fi;\n",
    "    od;\n",
    "  od;\n",
    "od;    "
   ]
  },
  {
   "cell_type": "code",
   "execution_count": 57,
   "id": "d1bb7685-d63c-49c9-9f09-89febdd72517",
   "metadata": {},
   "outputs": [
    {
     "data": {
      "text/plain": [
       "3"
      ]
     },
     "execution_count": 57,
     "metadata": {
      "text/plain": ""
     },
     "output_type": "execute_result"
    }
   ],
   "source": [
    "gammas:=List(connection_sets,l->CayleyGraph(l[1],l[2]));;\n",
    "gammas:=GraphIsomorphismClassRepresentatives(gammas);;\n",
    "\n",
    "Length(gammas);"
   ]
  },
  {
   "cell_type": "markdown",
   "id": "b05a9d8a-2850-4623-a2d2-d636a89c342e",
   "metadata": {},
   "source": [
    "There are exactly 2 strongly regular graphs with these parameters, so we know we have found at least one strictly Neumaier graph.\n",
    "\n",
    "To investigate further, we can use the <span style=\"color:blue\">**AGT**</span> package."
   ]
  },
  {
   "cell_type": "code",
   "execution_count": 59,
   "id": "e6bd625b-0781-40f7-a03b-c46ffb22519a",
   "metadata": {},
   "outputs": [
    {
     "data": {
      "text/plain": [
       "[ true, true, false ]"
      ]
     },
     "execution_count": 59,
     "metadata": {
      "text/plain": ""
     },
     "output_type": "execute_result"
    }
   ],
   "source": [
    "LoadPackage(\"agt\");;\n",
    "List(gammas,IsSRG);"
   ]
  },
  {
   "cell_type": "code",
   "execution_count": 60,
   "id": "b0a1d4a2-ea3d-4004-b630-12370366bfef",
   "metadata": {},
   "outputs": [
    {
     "data": {
      "text/plain": [
       "true"
      ]
     },
     "execution_count": 60,
     "metadata": {
      "text/plain": ""
     },
     "output_type": "execute_result"
    }
   ],
   "source": [
    "IsIsomorphicGraph(ComplementGraph(ShrikhandeGraph()),gammas[1]);"
   ]
  },
  {
   "cell_type": "code",
   "execution_count": 61,
   "id": "ad0bda3a-f275-42e9-bc25-31743f6a5a24",
   "metadata": {},
   "outputs": [
    {
     "data": {
      "text/plain": [
       "true"
      ]
     },
     "execution_count": 61,
     "metadata": {
      "text/plain": ""
     },
     "output_type": "execute_result"
    }
   ],
   "source": [
    "IsIsomorphicGraph(BilinearFormsGraph(2,2,2),gammas[2]);                  # complement of L_2(4)"
   ]
  },
  {
   "cell_type": "code",
   "execution_count": 62,
   "id": "e73fbdf1-f969-43fc-9236-6ffbfaccd8a2",
   "metadata": {},
   "outputs": [
    {
     "data": {
      "text/plain": [
       "true"
      ]
     },
     "execution_count": 62,
     "metadata": {
      "text/plain": ""
     },
     "output_type": "execute_result"
    }
   ],
   "source": [
    "IsERG(gammas[3]);"
   ]
  },
  {
   "cell_type": "code",
   "execution_count": 63,
   "id": "190e4e72-4828-4c4e-9186-78068073c256",
   "metadata": {},
   "outputs": [
    {
     "data": {
      "text/plain": [
       "4"
      ]
     },
     "execution_count": 63,
     "metadata": {
      "text/plain": ""
     },
     "output_type": "execute_result"
    }
   ],
   "source": [
    "CliqueNumber(gammas[3]);"
   ]
  },
  {
   "cell_type": "code",
   "execution_count": 64,
   "id": "8aa05367-933f-483b-8198-f5639cf0c01a",
   "metadata": {},
   "outputs": [
    {
     "data": {
      "text/plain": [
       "true"
      ]
     },
     "execution_count": 64,
     "metadata": {
      "text/plain": ""
     },
     "output_type": "execute_result"
    }
   ],
   "source": [
    "IsNG(gammas[3]);"
   ]
  },
  {
   "cell_type": "code",
   "execution_count": 65,
   "id": "1005db77-a60c-4da5-9080-bc1ea61eaf8d",
   "metadata": {},
   "outputs": [
    {
     "data": {
      "text/plain": [
       "[ 1, 2, 5, 8 ]"
      ]
     },
     "execution_count": 65,
     "metadata": {
      "text/plain": ""
     },
     "output_type": "execute_result"
    }
   ],
   "source": [
    "clq:=Cliques(gammas[3],4)[1];"
   ]
  },
  {
   "cell_type": "code",
   "execution_count": 66,
   "id": "786a6770-573a-4e3f-bf89-b4e6e95a374e",
   "metadata": {},
   "outputs": [
    {
     "data": {
      "text/plain": [
       "2"
      ]
     },
     "execution_count": 66,
     "metadata": {
      "text/plain": ""
     },
     "output_type": "execute_result"
    }
   ],
   "source": [
    "Nexus(gammas[3],clq);"
   ]
  },
  {
   "cell_type": "markdown",
   "id": "60021ed6-159b-41ca-be1e-903b4e3e7d42",
   "metadata": {},
   "source": [
    "This approach has been applied to find thousands of new graphs, and prove the existence of graphs with unseen properties, the most notable being new possible nexi for non-strongly regular examples."
   ]
  },
  {
   "cell_type": "code",
   "execution_count": null,
   "id": "578a276f-51f7-4c7e-a345-2339f1b82af2",
   "metadata": {},
   "outputs": [],
   "source": [
    "        "
   ]
  }
 ],
 "metadata": {
  "kernelspec": {
   "display_name": "GAP 4",
   "language": "gap",
   "name": "gap-4"
  },
  "language_info": {
   "codemirror_mode": "gap",
   "file_extension": ".g",
   "mimetype": "text/x-gap",
   "name": "GAP 4",
   "nbconvert_exporter": "",
   "pygments_lexer": "gap",
   "version": "4.13.0"
  }
 },
 "nbformat": 4,
 "nbformat_minor": 5
}
